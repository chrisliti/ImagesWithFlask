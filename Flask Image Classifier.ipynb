{
 "cells": [
  {
   "cell_type": "code",
   "execution_count": 1,
   "id": "873bd927",
   "metadata": {
    "scrolled": true
   },
   "outputs": [],
   "source": [
    "from flask import Flask,request,jsonify,url_for,render_template\n",
    "\n",
    "import uuid\n",
    "\n",
    "\n",
    "\n",
    "from tensorflow.keras.models import load_model\n",
    "from tensorflow.keras.applications import MobileNet\n",
    "from tensorflow.keras.applications.mobilenet import preprocess_input\n",
    "from tensorflow.keras.applications.mobilenet import decode_predictions\n",
    "from tensorflow.keras.preprocessing import image\n",
    "\n",
    "from werkzeug.utils import secure_filename\n",
    "\n",
    "from PIL import Image,ImageFile\n",
    "\n",
    "from io import BytesIO\n",
    "\n",
    "import os\n",
    "import numpy as np"
   ]
  },
  {
   "cell_type": "code",
   "execution_count": 2,
   "id": "8ccda606",
   "metadata": {},
   "outputs": [],
   "source": [
    "ALLOWED_EXTENSION  =set(['txt', 'pdf', 'png','jpg','jpeg','gif'])\n",
    "IMAGE_HEIGHT =224\n",
    "IMAGE_WIDTH = 224\n",
    "IMAGE_CHANNELS = 3\n",
    "\n",
    "os.chdir(\"D:/Flask Intro\")"
   ]
  },
  {
   "cell_type": "code",
   "execution_count": 3,
   "id": "52f9d827",
   "metadata": {},
   "outputs": [],
   "source": [
    "def allowed_file(filename):\n",
    "    return '.' in filename and \\\n",
    "     filename.rsplit('.',1)[1] in ALLOWED_EXTENSION"
   ]
  },
  {
   "cell_type": "code",
   "execution_count": null,
   "id": "3231b5f0",
   "metadata": {},
   "outputs": [
    {
     "name": "stdout",
     "output_type": "stream",
     "text": [
      " * Serving Flask app '__main__' (lazy loading)\n",
      " * Environment: production\n",
      "\u001b[31m   WARNING: This is a development server. Do not use it in a production deployment.\u001b[0m\n",
      "\u001b[2m   Use a production WSGI server instead.\u001b[0m\n",
      " * Debug mode: on\n"
     ]
    },
    {
     "name": "stderr",
     "output_type": "stream",
     "text": [
      " * Running on http://127.0.0.1:5000/ (Press CTRL+C to quit)\n",
      "127.0.0.1 - - [30/Aug/2021 12:35:56] \"GET / HTTP/1.1\" 404 -\n",
      "127.0.0.1 - - [30/Aug/2021 12:35:56] \"GET /favicon.ico HTTP/1.1\" 404 -\n",
      "127.0.0.1 - - [30/Aug/2021 12:36:07] \"GET /index HTTP/1.1\" 200 -\n",
      "127.0.0.1 - - [30/Aug/2021 12:36:07] \"GET /static/css/style.css HTTP/1.1\" 200 -\n"
     ]
    }
   ],
   "source": [
    "app = Flask(__name__)\n",
    "model = MobileNet(weights='imagenet', include_top=True)\n",
    "\n",
    "@app.route('/index')\n",
    "def index():\n",
    "    return render_template('ImageML.html')\n",
    "\n",
    "@app.route('/api/image', methods=['POST'])\n",
    "def upload_image():\n",
    "    if 'image' not in request.files:\n",
    "        return render_template('ImageML.html', prediction='No posted image. Should be attribute named image')\n",
    "    file = request.files['image']\n",
    "    \n",
    "    if file.filename =='':\n",
    "        return render_template('ImageML.html', prediction = 'You did not select an image')\n",
    "    \n",
    "    if file and allowed_file(file.filename):\n",
    "        filename = secure_filename(file.filename)\n",
    "        print(\"***\"+filename)\n",
    "        x = []\n",
    "        ImageFile.LOAD_TRUNCATED_IMAGES = False\n",
    "        img = Image.open(BytesIO(file.read()))\n",
    "        img.load()\n",
    "        img  = img.resize((IMAGE_WIDTH, IMAGE_HEIGHT), Image.ANTIALIAS)\n",
    "        x  = image.img_to_array(img)\n",
    "        x = np.expand_dims(x, axis=0)\n",
    "        x  = preprocess_input(x)\n",
    "        pred = model.predict(x)\n",
    "        lst =  decode_predictions(pred, top=3)\n",
    "        \n",
    "        \n",
    "        items = []\n",
    "        for item in lst[0]:\n",
    "            items.append({'name': item[1], 'prob': float(item[2])})\n",
    "        \n",
    "        response = {'pred': items}\n",
    "        return render_template('ImageML.html', prediction = 'I would say the image is most likely {}'.format(response))\n",
    "    else:\n",
    "        return render_template('ImageML.html', prediction = 'Invalid File extension')\n",
    "\n",
    "if __name__ == '__main__':\n",
    "    app.run(debug=True, use_reloader=False)"
   ]
  },
  {
   "cell_type": "code",
   "execution_count": null,
   "id": "afa6bdd5",
   "metadata": {},
   "outputs": [],
   "source": []
  },
  {
   "cell_type": "code",
   "execution_count": null,
   "id": "b9833c73",
   "metadata": {},
   "outputs": [],
   "source": []
  }
 ],
 "metadata": {
  "kernelspec": {
   "display_name": "Python 3 (ipykernel)",
   "language": "python",
   "name": "python3"
  },
  "language_info": {
   "codemirror_mode": {
    "name": "ipython",
    "version": 3
   },
   "file_extension": ".py",
   "mimetype": "text/x-python",
   "name": "python",
   "nbconvert_exporter": "python",
   "pygments_lexer": "ipython3",
   "version": "3.7.10"
  }
 },
 "nbformat": 4,
 "nbformat_minor": 5
}
